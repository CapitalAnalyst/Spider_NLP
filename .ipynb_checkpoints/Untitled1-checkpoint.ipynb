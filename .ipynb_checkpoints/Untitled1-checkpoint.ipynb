{
 "cells": [
  {
   "cell_type": "code",
   "execution_count": 1,
   "id": "b5dc99ce",
   "metadata": {},
   "outputs": [],
   "source": [
    "from transformers import pipeline\n",
    "\n",
    "classifier = pipeline(\"zero-shot-classification\", model=\"facebook/bart-large-mnli\")"
   ]
  },
  {
   "cell_type": "code",
   "execution_count": 2,
   "id": "1c9da95f",
   "metadata": {},
   "outputs": [
    {
     "name": "stdout",
     "output_type": "stream",
     "text": [
      "[{'summary_text': 'Australian small and medium businesses can take practical steps to be more cyber secure using our resources for Small Business Cyber Security. You can learn about common cyber threats and find guidance to help you protect your business online.'}]\n"
     ]
    }
   ],
   "source": [
    "from transformers import pipeline\n",
    "\n",
    "summarizer = pipeline(\"summarization\", model=\"facebook/bart-large-cnn\")\n",
    "\n",
    "text = '''\n",
    "While you’re getting prepared for the new financial year, it’s also a great time to check your business’ cyber health.\n",
    "\n",
    "Cyber attacks are happening more often, recovery can be costly and every Australian business is a target. In the 2022-23 financial year, the average cost of cybercrime for small businesses increased to $46,000, and for medium businesses it increased to $97,000.\n",
    "\n",
    "Australian small and medium businesses can take practical steps to be more cyber secure using our resources for Small Business Cyber Security. You can learn about common cyber threats impacting small and medium businesses and find guidance to help you protect your business online.\n",
    "\n",
    "Our small and medium business cyber security resources put everything you need in one place. You can use the Small Business Cyber Security Checklist to assess and improve your cyber security practices. You can also read guidance to help you secure your customers’ data and protect your business from email compromise.\n",
    "\n",
    "To get alerts and valuable insights delivered to your inbox, you can join ASD’s free Cyber Security Partnership Program as a Business Partner.\n",
    "'''\n",
    "summary = summarizer(text, max_length=150, min_length=40, do_sample=False)\n",
    "print(summary)\n"
   ]
  },
  {
   "cell_type": "code",
   "execution_count": 7,
   "id": "87f8f86e",
   "metadata": {},
   "outputs": [],
   "source": [
    "from transformers import pipeline\n",
    "\n",
    "classifier = pipeline(\"zero-shot-classification\", model=\"facebook/bart-large-mnli\")\n",
    "candidate_labels = ['physical', 'personnel', 'cyber', 'governance']\n",
    "classification_result = classifier(text, candidate_labels)"
   ]
  },
  {
   "cell_type": "code",
   "execution_count": 13,
   "id": "b0c99652",
   "metadata": {},
   "outputs": [
    {
     "name": "stdout",
     "output_type": "stream",
     "text": [
      "0\n"
     ]
    }
   ],
   "source": [
    "max_score_index = classification_result['scores'].index(max(classification_result['scores']))\n",
    "print(max_score_index)\n"
   ]
  },
  {
   "cell_type": "code",
   "execution_count": 14,
   "id": "6abe94c7",
   "metadata": {},
   "outputs": [
    {
     "name": "stdout",
     "output_type": "stream",
     "text": [
      "cyber\n"
     ]
    }
   ],
   "source": [
    "highest_confidence_label = classification_result['labels'][max_score_index]\n",
    "print(highest_confidence_label)"
   ]
  },
  {
   "cell_type": "code",
   "execution_count": 31,
   "id": "438cbde9",
   "metadata": {},
   "outputs": [],
   "source": [
    "data = {\n",
    "    \"Original Text\": [text],\n",
    "    \"Summary\": [summary[0]['summary_text']], \n",
    "    \"Labels\": highest_confidence_label\n",
    "}\n",
    "df = pd.DataFrame(data)\n",
    "df.to_csv('Sumarry_Classification.csv',index=False)"
   ]
  },
  {
   "cell_type": "code",
   "execution_count": 24,
   "id": "dcfbdec4",
   "metadata": {},
   "outputs": [
    {
     "name": "stdout",
     "output_type": "stream",
     "text": [
      "{'Original Text': ['\\nWhile you’re getting prepared for the new financial year, it’s also a great time to check your business’ cyber health.\\n\\nCyber attacks are happening more often, recovery can be costly and every Australian business is a target. In the 2022-23 financial year, the average cost of cybercrime for small businesses increased to $46,000, and for medium businesses it increased to $97,000.\\n\\nAustralian small and medium businesses can take practical steps to be more cyber secure using our resources for Small Business Cyber Security. You can learn about common cyber threats impacting small and medium businesses and find guidance to help you protect your business online.\\n\\nOur small and medium business cyber security resources put everything you need in one place. You can use the Small Business Cyber Security Checklist to assess and improve your cyber security practices. You can also read guidance to help you secure your customers’ data and protect your business from email compromise.\\n\\nTo get alerts and valuable insights delivered to your inbox, you can join ASD’s free Cyber Security Partnership Program as a Business Partner.\\n'], 'Summary': ['Australian small and medium businesses can take practical steps to be more cyber secure using our resources for Small Business Cyber Security. You can learn about common cyber threats and find guidance to help you protect your business online.'], 'Labels': 'cyber'}\n"
     ]
    }
   ],
   "source": [
    "print(data)"
   ]
  },
  {
   "cell_type": "code",
   "execution_count": 26,
   "id": "5cf6233c",
   "metadata": {},
   "outputs": [
    {
     "name": "stdout",
     "output_type": "stream",
     "text": [
      "  Original Text    Summary            Labels      Scores\n",
      "0        Text 1  Summary 1  Label 1, Label 2  0.95, 0.80\n",
      "1        Text 2  Summary 2  Label 3, Label 4  0.89, 0.75\n"
     ]
    }
   ],
   "source": [
    "import pandas as pd\n",
    "data1 = {\n",
    "    \"Original Text\": [\"Text 1\", \"Text 2\"],\n",
    "    \"Summary\": [\"Summary 1\", \"Summary 2\"],\n",
    "    \"Labels\": [\"Label 1, Label 2\", \"Label 3, Label 4\"],\n",
    "    \"Scores\": [\"0.95, 0.80\", \"0.89, 0.75\"]\n",
    "}\n",
    "\n",
    "df = pd.DataFrame(data1)\n",
    "print(df)"
   ]
  },
  {
   "cell_type": "code",
   "execution_count": 27,
   "id": "d1ab8bac",
   "metadata": {},
   "outputs": [
    {
     "name": "stdout",
     "output_type": "stream",
     "text": [
      "  Original Text    Summary            Labels      Scores\n",
      "0        Text 1  Summary 1  Label 1, Label 2  0.95, 0.80\n",
      "1        Text 2  Summary 2  Label 3, Label 4  0.89, 0.75\n"
     ]
    }
   ],
   "source": [
    "data2 = [\n",
    "    {\"Original Text\": \"Text 1\", \"Summary\": \"Summary 1\", \"Labels\": \"Label 1, Label 2\", \"Scores\": \"0.95, 0.80\"},\n",
    "    {\"Original Text\": \"Text 2\", \"Summary\": \"Summary 2\", \"Labels\": \"Label 3, Label 4\", \"Scores\": \"0.89, 0.75\"}\n",
    "]\n",
    "\n",
    "df1 = pd.DataFrame(data2)\n",
    "print(df1)"
   ]
  },
  {
   "cell_type": "code",
   "execution_count": 3,
   "id": "54fb7bb7",
   "metadata": {},
   "outputs": [
    {
     "name": "stdout",
     "output_type": "stream",
     "text": [
      "Summarization and classification results have been added to 'updated_your_file.csv'\n"
     ]
    }
   ],
   "source": [
    "import pandas as pd\n",
    "from transformers import pipeline\n",
    "\n",
    "# Initialize the summarization pipeline\n",
    "summarizer = pipeline(\"summarization\", model=\"facebook/bart-large-cnn\")\n",
    "\n",
    "# Optional: Initialize the classification pipeline\n",
    "classifier = pipeline(\"zero-shot-classification\", model=\"facebook/bart-large-mnli\")\n",
    "\n",
    "# Read the CSV file\n",
    "df = pd.read_csv(\"/Users/sjh/Downloads/spider/Data/2024-08-19_content.csv\")\n",
    "\n",
    "# Prepare lists to store the summary and classification results\n",
    "summaries = []\n",
    "labels = []\n",
    "scores = []\n",
    "final_labels = []\n",
    "# Specify candidate labels for classification\n",
    "candidate_labels = [\"cyber security\", \"business\", \"finance\", \"technology\"]\n",
    "\n",
    "# Iterate over each content item\n",
    "for content in df['Content']:\n",
    "    # Perform summarization\n",
    "    summary_result = summarizer(content, max_length=30, min_length=10, do_sample=False)\n",
    "    summary_text = summary_result[0]['summary_text']\n",
    "    summaries.append(summary_text)\n",
    "    \n",
    "    # Optional: Perform classification\n",
    "    classification_result = classifier(content, candidate_labels)\n",
    "    labels.append(\", \".join(classification_result['labels']))\n",
    "    scores.append(\", \".join([str(score) for score in classification_result['scores']]))\n",
    "    \n",
    "    # Determine the final label based on the highest score\n",
    "    max_score_index = classification_result['scores'].index(max(classification_result['scores']))\n",
    "    final_label = classification_result['labels'][max_score_index]\n",
    "    final_labels.append(final_label)\n",
    "\n",
    "# Add the summary, classification results, and final label as new columns in the DataFrame\n",
    "df['Summary'] = summaries\n",
    "df['Labels'] = labels\n",
    "df['Scores'] = scores\n",
    "df['Final Label'] = final_labels\n",
    "\n",
    "\n",
    "# Save the updated DataFrame to a new CSV file\n",
    "df.to_csv(\"/Users/sjh/Downloads/spider/Data/2024-08-20_content.csv\", index=False)\n",
    "\n",
    "print(\"Summarization and classification results have been added to 'updated_your_file.csv'\")\n"
   ]
  },
  {
   "cell_type": "code",
   "execution_count": null,
   "id": "6c65f153",
   "metadata": {},
   "outputs": [],
   "source": [
    "import datetime\n",
    "\n",
    "import pandas as pd\n",
    "from transformers import pipeline\n",
    "\n",
    "# Initialize the summarization pipeline\n",
    "summarizer = pipeline(\"summarization\", model=\"facebook/bart-large-cnn\")\n",
    "\n",
    "# Optional: Initialize the classification pipeline\n",
    "classifier = pipeline(\"zero-shot-classification\", model=\"facebook/bart-large-mnli\")\n",
    "\n",
    "\n",
    "today_str = datetime.date.today().strftime(\"%Y-%m-%d\")\n",
    "# Read the CSV file\n",
    "df = pd.read_csv(f\"./Data/{today_str}.csv\")\n",
    "\n",
    "# Prepare lists to store the summary and classification results\n",
    "summaries = []\n",
    "URL = []\n",
    "DATE = []\n",
    "labels = []\n",
    "scores = []\n",
    "final_labels = []\n",
    "# Specify candidate labels for classification\n",
    "candidate_labels = [\"cyber security\", \"business\", \"finance\", \"technology\"]\n",
    "\n",
    "# Iterate over each row in the DataFrame\n",
    "for index, row in df.iterrows():\n",
    "    content = row['Content']\n",
    "    url = row['URL']\n",
    "    URL.append(url)\n",
    "    date = row['Data']\n",
    "    DATE.append(date)\n",
    "    # Perform summarization\n",
    "    summary_result = summarizer(content, max_length=30, min_length=10, do_sample=False)\n",
    "    summary_text = summary_result[0]['summary_text']\n",
    "    summaries.append(summary_text)\n",
    "    \n",
    "    # Perform classification\n",
    "    classification_result = classifier(content, candidate_labels)\n",
    "    \n",
    "    # Determine the final label based on the highest score\n",
    "    max_score_index = classification_result['scores'].index(max(classification_result['scores']))\n",
    "    final_label = classification_result['labels'][max_score_index]\n",
    "    final_labels.append(final_label)\n",
    "\n",
    "# Add the summary, classification results, and final label as new columns in the DataFrame\n",
    "df['Summary'] = summaries\n",
    "df['URL'] = URL\n",
    "df['Date'] = DATE\n",
    "df['Final Label'] = final_labels\n",
    "\n",
    "# Retain only the necessary columns: Summary, URL, Date, Final Label\n",
    "df = df[['Summary', 'URL', 'Date', 'Final Label']]\n",
    "\n",
    "# Save the final DataFrame to a new CSV file\n",
    "df.to_csv(f\"./Data/{today_str}_final.csv\", mode=\"a\",index=False)\n",
    "\n",
    "print(f\"Summarization and classification results have been added to '{today_str}_final.csv'\")\n"
   ]
  },
  {
   "cell_type": "code",
   "execution_count": null,
   "id": "bd73c403",
   "metadata": {},
   "outputs": [],
   "source": []
  }
 ],
 "metadata": {
  "kernelspec": {
   "display_name": "Python 3",
   "language": "python",
   "name": "python3"
  },
  "language_info": {
   "codemirror_mode": {
    "name": "ipython",
    "version": 3
   },
   "file_extension": ".py",
   "mimetype": "text/x-python",
   "name": "python",
   "nbconvert_exporter": "python",
   "pygments_lexer": "ipython3",
   "version": "3.9.16"
  }
 },
 "nbformat": 4,
 "nbformat_minor": 5
}
