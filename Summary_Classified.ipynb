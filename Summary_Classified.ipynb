{
 "cells": [
  {
   "cell_type": "code",
   "execution_count": 1,
   "id": "3425c62c",
   "metadata": {},
   "outputs": [
    {
     "name": "stderr",
     "output_type": "stream",
     "text": [
      "Your max_length is set to 30, but your input_length is only 12. Since this is a summarization task, where outputs shorter than the input are typically wanted, you might consider decreasing max_length manually, e.g. summarizer('...', max_length=6)\n",
      "Your max_length is set to 30, but your input_length is only 25. Since this is a summarization task, where outputs shorter than the input are typically wanted, you might consider decreasing max_length manually, e.g. summarizer('...', max_length=12)\n"
     ]
    },
    {
     "name": "stdout",
     "output_type": "stream",
     "text": [
      "Summarization and classification results have been added to '2024-08-20_final.csv'\n"
     ]
    }
   ],
   "source": [
    "import datetime,os\n",
    "import pandas as pd\n",
    "from transformers import pipeline\n",
    "\n",
    "# Initialize the summarization pipeline\n",
    "summarizer = pipeline(\"summarization\", model=\"facebook/bart-large-cnn\")\n",
    "\n",
    "# Optional: Initialize the classification pipeline\n",
    "classifier = pipeline(\"zero-shot-classification\", model=\"facebook/bart-large-mnli\")\n",
    "\n",
    "\n",
    "today_str = datetime.date.today().strftime(\"%Y-%m-%d\")\n",
    "# Read the CSV file\n",
    "csv_path = f\"./Data/cyber_gov_{today_str}.csv\"\n",
    "df = pd.read_csv(csv_path)\n",
    "\n",
    "# Prepare lists to store the summary and classification results\n",
    "summaries = []\n",
    "URL = []\n",
    "DATE = []\n",
    "labels = []\n",
    "scores = []\n",
    "final_labels = []\n",
    "# Specify candidate labels for classification\n",
    "candidate_labels = [\"cyber security\", \"business\", \"finance\", \"technology\"]\n",
    "\n",
    "# Iterate over each row in the DataFrame\n",
    "for index, row in df.iterrows():\n",
    "    content = row['Content']\n",
    "    url = row['URL']\n",
    "    URL.append(url)\n",
    "    date = row['Date']\n",
    "    DATE.append(date)\n",
    "    # Perform summarization\n",
    "    summary_result = summarizer(content, max_length=30, min_length=10, do_sample=False)\n",
    "    summary_text = summary_result[0]['summary_text']\n",
    "    summaries.append(summary_text)\n",
    "    \n",
    "    # Perform classification\n",
    "    classification_result = classifier(content, candidate_labels)\n",
    "    \n",
    "    # Determine the final label based on the highest score\n",
    "    max_score_index = classification_result['scores'].index(max(classification_result['scores']))\n",
    "    final_label = classification_result['labels'][max_score_index]\n",
    "    final_labels.append(final_label)\n",
    "\n",
    "# Add the summary, classification results, and final label as new columns in the DataFrame\n",
    "df['Summary'] = summaries\n",
    "df['URL'] = URL\n",
    "df['Date'] = DATE\n",
    "df['Final Label'] = final_labels\n",
    "\n",
    "# Retain only the necessary columns: Summary, URL, Date, Final Label\n",
    "df = df[['Summary', 'URL', 'Date', 'Final Label']]\n",
    "\n",
    "store_csv_path = f\"./Data/{today_str}_final.csv\"\n",
    "if os.path.exists(store_csv_path):\n",
    "    df.to_csv(path_or_buf=store_csv_path, mode=\"a\",index=False,header=False)\n",
    "else:\n",
    "    # If it does not exist, create a new file and add data\n",
    "    df.to_csv(path_or_buf=store_csv_path , mode=\"w\", index=False)\n",
    "    \n",
    "\n",
    "print(f\"Summarization and classification results have been added to '{today_str}_final.csv'\")\n"
   ]
  },
  {
   "cell_type": "code",
   "execution_count": null,
   "id": "edd5643c",
   "metadata": {},
   "outputs": [],
   "source": []
  }
 ],
 "metadata": {
  "kernelspec": {
   "display_name": "Python 3",
   "language": "python",
   "name": "python3"
  },
  "language_info": {
   "codemirror_mode": {
    "name": "ipython",
    "version": 3
   },
   "file_extension": ".py",
   "mimetype": "text/x-python",
   "name": "python",
   "nbconvert_exporter": "python",
   "pygments_lexer": "ipython3",
   "version": "3.9.16"
  }
 },
 "nbformat": 4,
 "nbformat_minor": 5
}
